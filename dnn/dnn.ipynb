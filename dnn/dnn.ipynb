{
 "cells": [
  {
   "cell_type": "markdown",
   "metadata": {},
   "source": [
    "Let's import the necessary libraries that will be used for this project. The following libraries will be used:\n",
    "\n",
    "* pandas - for reading our dataset and processing it\n",
    "* numpy - for processing the model predictions\n",
    "* matplotlib - for plotting the training and validation curves\n",
    "* tensorflow - for building our model\n",
    "* scikit-learn - for data preprocessing and model evaluation"
   ]
  },
  {
   "cell_type": "code",
   "execution_count": 2,
   "metadata": {},
   "outputs": [],
   "source": [
    "import pandas as pd\n",
    "import numpy as np\n",
    "import matplotlib.pyplot as plt\n",
    "\n",
    "from tensorflow.keras.models import Sequential\n",
    "from tensorflow.keras.layers import Dropout\n",
    "from tensorflow.keras.layers import Dense\n",
    "from sklearn.model_selection import train_test_split\n",
    "from sklearn.metrics import accuracy_score\n",
    "from sklearn.metrics import classification_report"
   ]
  },
  {
   "cell_type": "markdown",
   "metadata": {},
   "source": [
    "## Getting the data\n",
    "Let's now read the data after importing the necessary libraries."
   ]
  },
  {
   "cell_type": "code",
   "execution_count": 2,
   "metadata": {},
   "outputs": [],
   "source": [
    "# Load dataset\n",
    "box_1 = pd.read_csv('box_1_smoothened.csv')\n",
    "box_2 = pd.read_csv('box_2_smoothened.csv')\n",
    "box_3 = pd.read_csv('box_3_smoothened.csv')\n",
    "box_4 = pd.read_csv('box_4_smoothened.csv')"
   ]
  },
  {
   "cell_type": "markdown",
   "metadata": {},
   "source": [
    "Combine the data to make one dataset."
   ]
  },
  {
   "cell_type": "code",
   "execution_count": 3,
   "metadata": {},
   "outputs": [],
   "source": [
    "data = pd.concat([box_1, box_2, box_3, box_4], axis='index')"
   ]
  },
  {
   "cell_type": "markdown",
   "metadata": {},
   "source": [
    "Drop unused columns."
   ]
  },
  {
   "cell_type": "code",
   "execution_count": 4,
   "metadata": {},
   "outputs": [],
   "source": [
    "data.drop(columns=['Unnamed: 0'], inplace=True)"
   ]
  },
  {
   "cell_type": "markdown",
   "metadata": {},
   "source": [
    "Then, rearrange the columns, putting the label as the last column."
   ]
  },
  {
   "cell_type": "code",
   "execution_count": 5,
   "metadata": {},
   "outputs": [
    {
     "data": {
      "text/plain": [
       "['mq2_smooth',\n",
       " 'mq3_smooth',\n",
       " 'mq7_smooth',\n",
       " 'mq9_smooth',\n",
       " 'mq135_smooth',\n",
       " 'label']"
      ]
     },
     "execution_count": 5,
     "metadata": {},
     "output_type": "execute_result"
    }
   ],
   "source": [
    "cols = data.columns.tolist()\n",
    "cols = cols[1:] + ['label']\n",
    "cols"
   ]
  },
  {
   "cell_type": "code",
   "execution_count": 6,
   "metadata": {},
   "outputs": [
    {
     "data": {
      "text/html": [
       "<div>\n",
       "<style scoped>\n",
       "    .dataframe tbody tr th:only-of-type {\n",
       "        vertical-align: middle;\n",
       "    }\n",
       "\n",
       "    .dataframe tbody tr th {\n",
       "        vertical-align: top;\n",
       "    }\n",
       "\n",
       "    .dataframe thead th {\n",
       "        text-align: right;\n",
       "    }\n",
       "</style>\n",
       "<table border=\"1\" class=\"dataframe\">\n",
       "  <thead>\n",
       "    <tr style=\"text-align: right;\">\n",
       "      <th></th>\n",
       "      <th>mq2_smooth</th>\n",
       "      <th>mq3_smooth</th>\n",
       "      <th>mq7_smooth</th>\n",
       "      <th>mq9_smooth</th>\n",
       "      <th>mq135_smooth</th>\n",
       "      <th>label</th>\n",
       "    </tr>\n",
       "  </thead>\n",
       "  <tbody>\n",
       "    <tr>\n",
       "      <th>0</th>\n",
       "      <td>81.150000</td>\n",
       "      <td>862.906333</td>\n",
       "      <td>0.059000</td>\n",
       "      <td>0.145333</td>\n",
       "      <td>0.465000</td>\n",
       "      <td>0</td>\n",
       "    </tr>\n",
       "    <tr>\n",
       "      <th>1</th>\n",
       "      <td>81.097333</td>\n",
       "      <td>862.944333</td>\n",
       "      <td>0.041667</td>\n",
       "      <td>0.109000</td>\n",
       "      <td>0.417000</td>\n",
       "      <td>0</td>\n",
       "    </tr>\n",
       "    <tr>\n",
       "      <th>2</th>\n",
       "      <td>81.067667</td>\n",
       "      <td>862.990667</td>\n",
       "      <td>0.035333</td>\n",
       "      <td>0.091333</td>\n",
       "      <td>0.379667</td>\n",
       "      <td>0</td>\n",
       "    </tr>\n",
       "    <tr>\n",
       "      <th>3</th>\n",
       "      <td>81.050000</td>\n",
       "      <td>863.044000</td>\n",
       "      <td>0.031667</td>\n",
       "      <td>0.083333</td>\n",
       "      <td>0.353000</td>\n",
       "      <td>0</td>\n",
       "    </tr>\n",
       "    <tr>\n",
       "      <th>4</th>\n",
       "      <td>81.041000</td>\n",
       "      <td>863.104333</td>\n",
       "      <td>0.031667</td>\n",
       "      <td>0.083000</td>\n",
       "      <td>0.330667</td>\n",
       "      <td>0</td>\n",
       "    </tr>\n",
       "    <tr>\n",
       "      <th>...</th>\n",
       "      <td>...</td>\n",
       "      <td>...</td>\n",
       "      <td>...</td>\n",
       "      <td>...</td>\n",
       "      <td>...</td>\n",
       "      <td>...</td>\n",
       "    </tr>\n",
       "    <tr>\n",
       "      <th>192238</th>\n",
       "      <td>536.118333</td>\n",
       "      <td>874.291667</td>\n",
       "      <td>31.069333</td>\n",
       "      <td>61.200333</td>\n",
       "      <td>483.998333</td>\n",
       "      <td>1</td>\n",
       "    </tr>\n",
       "    <tr>\n",
       "      <th>192239</th>\n",
       "      <td>536.120667</td>\n",
       "      <td>874.284333</td>\n",
       "      <td>31.068333</td>\n",
       "      <td>61.201333</td>\n",
       "      <td>483.998667</td>\n",
       "      <td>1</td>\n",
       "    </tr>\n",
       "    <tr>\n",
       "      <th>192240</th>\n",
       "      <td>536.117667</td>\n",
       "      <td>874.276333</td>\n",
       "      <td>31.072667</td>\n",
       "      <td>61.193000</td>\n",
       "      <td>484.002000</td>\n",
       "      <td>1</td>\n",
       "    </tr>\n",
       "    <tr>\n",
       "      <th>192241</th>\n",
       "      <td>536.117000</td>\n",
       "      <td>874.272000</td>\n",
       "      <td>31.071667</td>\n",
       "      <td>61.193333</td>\n",
       "      <td>484.003333</td>\n",
       "      <td>1</td>\n",
       "    </tr>\n",
       "    <tr>\n",
       "      <th>192242</th>\n",
       "      <td>536.117333</td>\n",
       "      <td>874.263000</td>\n",
       "      <td>31.071333</td>\n",
       "      <td>61.185667</td>\n",
       "      <td>484.002000</td>\n",
       "      <td>1</td>\n",
       "    </tr>\n",
       "  </tbody>\n",
       "</table>\n",
       "<p>786590 rows × 6 columns</p>\n",
       "</div>"
      ],
      "text/plain": [
       "        mq2_smooth  mq3_smooth  mq7_smooth  mq9_smooth  mq135_smooth  label\n",
       "0        81.150000  862.906333    0.059000    0.145333      0.465000      0\n",
       "1        81.097333  862.944333    0.041667    0.109000      0.417000      0\n",
       "2        81.067667  862.990667    0.035333    0.091333      0.379667      0\n",
       "3        81.050000  863.044000    0.031667    0.083333      0.353000      0\n",
       "4        81.041000  863.104333    0.031667    0.083000      0.330667      0\n",
       "...            ...         ...         ...         ...           ...    ...\n",
       "192238  536.118333  874.291667   31.069333   61.200333    483.998333      1\n",
       "192239  536.120667  874.284333   31.068333   61.201333    483.998667      1\n",
       "192240  536.117667  874.276333   31.072667   61.193000    484.002000      1\n",
       "192241  536.117000  874.272000   31.071667   61.193333    484.003333      1\n",
       "192242  536.117333  874.263000   31.071333   61.185667    484.002000      1\n",
       "\n",
       "[786590 rows x 6 columns]"
      ]
     },
     "execution_count": 6,
     "metadata": {},
     "output_type": "execute_result"
    }
   ],
   "source": [
    "data = data[cols]\n",
    "data"
   ]
  },
  {
   "cell_type": "markdown",
   "metadata": {},
   "source": [
    "## Model Building"
   ]
  },
  {
   "cell_type": "code",
   "execution_count": 7,
   "metadata": {},
   "outputs": [],
   "source": [
    "train_data, test_data, train_labels, test_labels = train_test_split(data.iloc[:, :-1], data.iloc[:, -1], test_size=0.3)"
   ]
  },
  {
   "cell_type": "code",
   "execution_count": 8,
   "metadata": {},
   "outputs": [
    {
     "data": {
      "text/plain": [
       "(550613, 5)"
      ]
     },
     "execution_count": 8,
     "metadata": {},
     "output_type": "execute_result"
    }
   ],
   "source": [
    "train_data.shape"
   ]
  },
  {
   "cell_type": "markdown",
   "metadata": {},
   "source": [
    "Build the model."
   ]
  },
  {
   "cell_type": "code",
   "execution_count": 9,
   "metadata": {},
   "outputs": [],
   "source": [
    "cacao_ferm_classifier = Sequential([\n",
    "    Dense(128, activation='relu', input_shape=(train_data.shape[1],)),\n",
    "    Dense(128, activation='relu'),\n",
    "    Dropout(.2),\n",
    "    Dense(128, activation='relu'),\n",
    "    Dropout(.2),\n",
    "    Dense(128, activation='relu'),\n",
    "    Dropout(.2),\n",
    "    Dense(1, activation='sigmoid')\n",
    "])"
   ]
  },
  {
   "cell_type": "markdown",
   "metadata": {},
   "source": [
    "Compile the model."
   ]
  },
  {
   "cell_type": "code",
   "execution_count": 10,
   "metadata": {},
   "outputs": [],
   "source": [
    "cacao_ferm_classifier.compile(loss='binary_crossentropy', optimizer='adam', metrics=['accuracy'])"
   ]
  },
  {
   "cell_type": "markdown",
   "metadata": {},
   "source": [
    "Train the model."
   ]
  },
  {
   "cell_type": "code",
   "execution_count": 11,
   "metadata": {},
   "outputs": [
    {
     "name": "stdout",
     "output_type": "stream",
     "text": [
      "Epoch 1/10\n",
      "8604/8604 [==============================] - 48s 5ms/step - loss: 0.1975 - accuracy: 0.9434 - val_loss: 0.0089 - val_accuracy: 0.9989\n",
      "Epoch 2/10\n",
      "8604/8604 [==============================] - 44s 5ms/step - loss: 0.0274 - accuracy: 0.9919 - val_loss: 0.0094 - val_accuracy: 0.9980\n",
      "Epoch 3/10\n",
      "8604/8604 [==============================] - 44s 5ms/step - loss: 0.0117 - accuracy: 0.9964 - val_loss: 0.0069 - val_accuracy: 0.9989\n",
      "Epoch 4/10\n",
      "8604/8604 [==============================] - 44s 5ms/step - loss: 0.0105 - accuracy: 0.9969 - val_loss: 0.0048 - val_accuracy: 0.9974\n",
      "Epoch 5/10\n",
      "8604/8604 [==============================] - 44s 5ms/step - loss: 0.0088 - accuracy: 0.9974 - val_loss: 0.0086 - val_accuracy: 0.9964\n",
      "Epoch 6/10\n",
      "8604/8604 [==============================] - 43s 5ms/step - loss: 0.0083 - accuracy: 0.9974 - val_loss: 0.0036 - val_accuracy: 0.9987\n",
      "Epoch 7/10\n",
      "8604/8604 [==============================] - 44s 5ms/step - loss: 0.0078 - accuracy: 0.9977 - val_loss: 0.0033 - val_accuracy: 0.9991\n",
      "Epoch 8/10\n",
      "8604/8604 [==============================] - 44s 5ms/step - loss: 0.0069 - accuracy: 0.9979 - val_loss: 0.0047 - val_accuracy: 0.9985\n",
      "Epoch 9/10\n",
      "8604/8604 [==============================] - 44s 5ms/step - loss: 0.0070 - accuracy: 0.9980 - val_loss: 0.0253 - val_accuracy: 0.9844\n",
      "Epoch 10/10\n",
      "8604/8604 [==============================] - 46s 5ms/step - loss: 0.0063 - accuracy: 0.9979 - val_loss: 0.0042 - val_accuracy: 0.9980\n"
     ]
    }
   ],
   "source": [
    "history = cacao_ferm_classifier.fit(train_data, train_labels, validation_data=((test_data, test_labels)), epochs=10, batch_size=64, verbose=1)"
   ]
  },
  {
   "cell_type": "markdown",
   "metadata": {},
   "source": [
    "Plot the model accuracy and loss."
   ]
  },
  {
   "cell_type": "code",
   "execution_count": 12,
   "metadata": {},
   "outputs": [
    {
     "data": {
      "image/png": "[encoded data removed]",
      "text/plain": [
       "<Figure size 1600x400 with 2 Axes>"
      ]
     },
     "metadata": {},
     "output_type": "display_data"
    }
   ],
   "source": [
    "# Create a 16\" x 4\" plot board\n",
    "plt.figure(figsize=(16, 4))\n",
    "\n",
    "# Plot the training and validation accuracy in the first plot space (1 x 2 plots)\n",
    "plt.subplot(1, 2, 1)\n",
    "plt.plot(history.history['accuracy'], color=\"red\")\n",
    "plt.plot(history.history['val_accuracy'], color=\"blue\")\n",
    "plt.title('Model Accuracy')\n",
    "plt.ylabel('accuracy')\n",
    "plt.xlabel('epoch')\n",
    "plt.legend(['train', 'val'], loc='upper left')\n",
    "\n",
    "# Plot the training and validation loss in the second plot space (1 x 2 plots)\n",
    "plt.subplot(1, 2, 2)\n",
    "plt.plot(history.history['loss'], color=\"red\")\n",
    "plt.plot(history.history['val_loss'], color=\"blue\")\n",
    "plt.title('Model Loss')\n",
    "plt.ylabel('accuracy')\n",
    "plt.xlabel('epoch')\n",
    "plt.legend(['train', 'val'], loc='upper right')\n",
    "\n",
    "# Show the plots\n",
    "plt.show()"
   ]
  },
  {
   "cell_type": "markdown",
   "metadata": {},
   "source": [
    "# Model Evaluation"
   ]
  },
  {
   "cell_type": "markdown",
   "metadata": {},
   "source": [
    "Make predictions."
   ]
  },
  {
   "cell_type": "code",
   "execution_count": 13,
   "metadata": {},
   "outputs": [
    {
     "name": "stdout",
     "output_type": "stream",
     "text": [
      "7375/7375 [==============================] - 14s 2ms/step\n"
     ]
    },
    {
     "data": {
      "text/plain": [
       "0.9397780292147117"
      ]
     },
     "execution_count": 13,
     "metadata": {},
     "output_type": "execute_result"
    }
   ],
   "source": [
    "preds = cacao_ferm_classifier.predict(test_data)\n",
    "test_acc = accuracy_score(test_labels, preds.astype(np.int32))\n",
    "\n",
    "test_acc"
   ]
  },
  {
   "cell_type": "code",
   "execution_count": 16,
   "metadata": {},
   "outputs": [
    {
     "name": "stdout",
     "output_type": "stream",
     "text": [
      "7375/7375 - 12s - loss: 0.0042 - accuracy: 0.9980 - 12s/epoch - 2ms/step\n",
      "Accuracy: 99.80%\n"
     ]
    }
   ],
   "source": [
    "loss, acc = cacao_ferm_classifier.evaluate(test_data, test_labels, verbose=2)\n",
    "print(\"Accuracy: {:5.2f}%\".format(100 * acc))"
   ]
  },
  {
   "cell_type": "markdown",
   "metadata": {},
   "source": [
    "Create classification report."
   ]
  },
  {
   "cell_type": "code",
   "execution_count": 14,
   "metadata": {},
   "outputs": [
    {
     "name": "stdout",
     "output_type": "stream",
     "text": [
      "              precision    recall  f1-score   support\n",
      "\n",
      "           0       0.92      1.00      0.96    166777\n",
      "           1       1.00      0.79      0.89     69200\n",
      "\n",
      "    accuracy                           0.94    235977\n",
      "   macro avg       0.96      0.90      0.92    235977\n",
      "weighted avg       0.94      0.94      0.94    235977\n",
      "\n"
     ]
    }
   ],
   "source": [
    "print(classification_report(test_labels, preds.astype(np.int32)))"
   ]
  },
  {
   "cell_type": "markdown",
   "metadata": {},
   "source": [
    "Save the model."
   ]
  },
  {
   "cell_type": "code",
   "execution_count": 15,
   "metadata": {},
   "outputs": [
    {
     "name": "stdout",
     "output_type": "stream",
     "text": [
      "INFO:tensorflow:Assets written to: ./model/dnn_cacao_ferm_classifier\\assets\n"
     ]
    },
    {
     "name": "stderr",
     "output_type": "stream",
     "text": [
      "INFO:tensorflow:Assets written to: ./model/dnn_cacao_ferm_classifier\\assets\n"
     ]
    }
   ],
   "source": [
    "cacao_ferm_classifier.save('./model/dnn_cacao_ferm_classifier')"
   ]
  }
 ],
 "metadata": {
  "kernelspec": {
   "display_name": "Python 3",
   "language": "python",
   "name": "python3"
  },
  "language_info": {
   "codemirror_mode": {
    "name": "ipython",
    "version": 3
   },
   "file_extension": ".py",
   "mimetype": "text/x-python",
   "name": "python",
   "nbconvert_exporter": "python",
   "pygments_lexer": "ipython3",
   "version": "3.8.10"
  }
 },
 "nbformat": 4,
 "nbformat_minor": 2
}
